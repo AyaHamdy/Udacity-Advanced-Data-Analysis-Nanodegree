{
 "cells": [
  {
   "cell_type": "markdown",
   "metadata": {
    "slideshow": {
     "slide_type": "slide"
    }
   },
   "source": [
    "# Ford GoBike System Data\n",
    "## by Aya Hamdy\n",
    "\n",
    "## Preliminary Wrangling\n",
    "\n",
    "> Ford GoBike System Dateset is a dateset that includes information about individual rides made in a bike-sharing system covering the greater San Francisco Bay area through 2019. This data avaliable at https://s3.amazonaws.com/baywheels-data/index.html.\n",
    "\n",
    "> here i am focuse on all 2019 year months."
   ]
  },
  {
   "cell_type": "code",
   "execution_count": 2,
   "metadata": {
    "slideshow": {
     "slide_type": "skip"
    }
   },
   "outputs": [],
   "source": [
    "# import all packages and set plots to be embedded inline\n",
    "import numpy as np\n",
    "import pandas as pd\n",
    "import matplotlib.pyplot as plt\n",
    "import seaborn as sb\n",
    "import glob\n",
    "import calendar\n",
    "%matplotlib inline"
   ]
  },
  {
   "cell_type": "code",
   "execution_count": 5,
   "metadata": {
    "slideshow": {
     "slide_type": "slide"
    }
   },
   "outputs": [
    {
     "name": "stderr",
     "output_type": "stream",
     "text": [
      "/home/aya/.local/lib/python3.6/site-packages/IPython/core/interactiveshell.py:3267: DtypeWarning: Columns (14) have mixed types.Specify dtype option on import or set low_memory=False.\n",
      "  exec(code_obj, self.user_global_ns, self.user_ns)\n",
      "/home/aya/.local/lib/python3.6/site-packages/IPython/core/interactiveshell.py:3267: DtypeWarning: Columns (13) have mixed types.Specify dtype option on import or set low_memory=False.\n",
      "  exec(code_obj, self.user_global_ns, self.user_ns)\n",
      "/home/aya/.local/lib/python3.6/site-packages/IPython/core/interactiveshell.py:3267: DtypeWarning: Columns (13,14) have mixed types.Specify dtype option on import or set low_memory=False.\n",
      "  exec(code_obj, self.user_global_ns, self.user_ns)\n"
     ]
    },
    {
     "data": {
      "text/html": [
       "<div>\n",
       "<style scoped>\n",
       "    .dataframe tbody tr th:only-of-type {\n",
       "        vertical-align: middle;\n",
       "    }\n",
       "\n",
       "    .dataframe tbody tr th {\n",
       "        vertical-align: top;\n",
       "    }\n",
       "\n",
       "    .dataframe thead th {\n",
       "        text-align: right;\n",
       "    }\n",
       "</style>\n",
       "<table border=\"1\" class=\"dataframe\">\n",
       "  <thead>\n",
       "    <tr style=\"text-align: right;\">\n",
       "      <th></th>\n",
       "      <th>duration_sec</th>\n",
       "      <th>start_time</th>\n",
       "      <th>end_time</th>\n",
       "      <th>start_station_id</th>\n",
       "      <th>start_station_name</th>\n",
       "      <th>start_station_latitude</th>\n",
       "      <th>start_station_longitude</th>\n",
       "      <th>end_station_id</th>\n",
       "      <th>end_station_name</th>\n",
       "      <th>end_station_latitude</th>\n",
       "      <th>end_station_longitude</th>\n",
       "      <th>bike_id</th>\n",
       "      <th>user_type</th>\n",
       "      <th>bike_share_for_all_trip</th>\n",
       "      <th>rental_access_method</th>\n",
       "    </tr>\n",
       "  </thead>\n",
       "  <tbody>\n",
       "    <tr>\n",
       "      <th>0</th>\n",
       "      <td>707</td>\n",
       "      <td>2019-11-30 23:54:47.2970</td>\n",
       "      <td>2019-12-01 00:06:34.3780</td>\n",
       "      <td>30.0</td>\n",
       "      <td>San Francisco Caltrain (Townsend St at 4th St)</td>\n",
       "      <td>37.776598</td>\n",
       "      <td>-122.395282</td>\n",
       "      <td>4.0</td>\n",
       "      <td>Cyril Magnin St at Ellis St</td>\n",
       "      <td>37.785881</td>\n",
       "      <td>-122.408915</td>\n",
       "      <td>12077</td>\n",
       "      <td>Customer</td>\n",
       "      <td>No</td>\n",
       "      <td>NaN</td>\n",
       "    </tr>\n",
       "    <tr>\n",
       "      <th>1</th>\n",
       "      <td>2649</td>\n",
       "      <td>2019-11-30 23:18:36.2890</td>\n",
       "      <td>2019-12-01 00:02:45.5790</td>\n",
       "      <td>440.0</td>\n",
       "      <td>Carl St at Cole St</td>\n",
       "      <td>37.765910</td>\n",
       "      <td>-122.449257</td>\n",
       "      <td>13.0</td>\n",
       "      <td>Commercial St at Montgomery St</td>\n",
       "      <td>37.794231</td>\n",
       "      <td>-122.402923</td>\n",
       "      <td>10322</td>\n",
       "      <td>Subscriber</td>\n",
       "      <td>Yes</td>\n",
       "      <td>NaN</td>\n",
       "    </tr>\n",
       "    <tr>\n",
       "      <th>2</th>\n",
       "      <td>1711</td>\n",
       "      <td>2019-11-30 23:33:02.2610</td>\n",
       "      <td>2019-12-01 00:01:34.2170</td>\n",
       "      <td>239.0</td>\n",
       "      <td>Bancroft Way at Telegraph Ave</td>\n",
       "      <td>37.868813</td>\n",
       "      <td>-122.258764</td>\n",
       "      <td>180.0</td>\n",
       "      <td>Telegraph Ave at 23rd St</td>\n",
       "      <td>37.812678</td>\n",
       "      <td>-122.268773</td>\n",
       "      <td>476</td>\n",
       "      <td>Subscriber</td>\n",
       "      <td>No</td>\n",
       "      <td>NaN</td>\n",
       "    </tr>\n",
       "    <tr>\n",
       "      <th>3</th>\n",
       "      <td>931</td>\n",
       "      <td>2019-11-30 23:45:20.2720</td>\n",
       "      <td>2019-12-01 00:00:51.9560</td>\n",
       "      <td>323.0</td>\n",
       "      <td>Broadway at Kearny</td>\n",
       "      <td>37.798014</td>\n",
       "      <td>-122.405950</td>\n",
       "      <td>78.0</td>\n",
       "      <td>Folsom St at 9th St</td>\n",
       "      <td>37.773717</td>\n",
       "      <td>-122.411647</td>\n",
       "      <td>12370</td>\n",
       "      <td>Subscriber</td>\n",
       "      <td>No</td>\n",
       "      <td>NaN</td>\n",
       "    </tr>\n",
       "    <tr>\n",
       "      <th>4</th>\n",
       "      <td>1449</td>\n",
       "      <td>2019-11-30 23:29:56.6710</td>\n",
       "      <td>2019-11-30 23:54:05.8620</td>\n",
       "      <td>30.0</td>\n",
       "      <td>San Francisco Caltrain (Townsend St at 4th St)</td>\n",
       "      <td>37.776598</td>\n",
       "      <td>-122.395282</td>\n",
       "      <td>30.0</td>\n",
       "      <td>San Francisco Caltrain (Townsend St at 4th St)</td>\n",
       "      <td>37.776598</td>\n",
       "      <td>-122.395282</td>\n",
       "      <td>107</td>\n",
       "      <td>Customer</td>\n",
       "      <td>No</td>\n",
       "      <td>NaN</td>\n",
       "    </tr>\n",
       "  </tbody>\n",
       "</table>\n",
       "</div>"
      ],
      "text/plain": [
       "   duration_sec                start_time                  end_time  \\\n",
       "0           707  2019-11-30 23:54:47.2970  2019-12-01 00:06:34.3780   \n",
       "1          2649  2019-11-30 23:18:36.2890  2019-12-01 00:02:45.5790   \n",
       "2          1711  2019-11-30 23:33:02.2610  2019-12-01 00:01:34.2170   \n",
       "3           931  2019-11-30 23:45:20.2720  2019-12-01 00:00:51.9560   \n",
       "4          1449  2019-11-30 23:29:56.6710  2019-11-30 23:54:05.8620   \n",
       "\n",
       "   start_station_id                              start_station_name  \\\n",
       "0              30.0  San Francisco Caltrain (Townsend St at 4th St)   \n",
       "1             440.0                              Carl St at Cole St   \n",
       "2             239.0                   Bancroft Way at Telegraph Ave   \n",
       "3             323.0                              Broadway at Kearny   \n",
       "4              30.0  San Francisco Caltrain (Townsend St at 4th St)   \n",
       "\n",
       "   start_station_latitude  start_station_longitude  end_station_id  \\\n",
       "0               37.776598              -122.395282             4.0   \n",
       "1               37.765910              -122.449257            13.0   \n",
       "2               37.868813              -122.258764           180.0   \n",
       "3               37.798014              -122.405950            78.0   \n",
       "4               37.776598              -122.395282            30.0   \n",
       "\n",
       "                                 end_station_name  end_station_latitude  \\\n",
       "0                     Cyril Magnin St at Ellis St             37.785881   \n",
       "1                  Commercial St at Montgomery St             37.794231   \n",
       "2                        Telegraph Ave at 23rd St             37.812678   \n",
       "3                             Folsom St at 9th St             37.773717   \n",
       "4  San Francisco Caltrain (Townsend St at 4th St)             37.776598   \n",
       "\n",
       "   end_station_longitude  bike_id   user_type bike_share_for_all_trip  \\\n",
       "0            -122.408915    12077    Customer                      No   \n",
       "1            -122.402923    10322  Subscriber                     Yes   \n",
       "2            -122.268773      476  Subscriber                      No   \n",
       "3            -122.411647    12370  Subscriber                      No   \n",
       "4            -122.395282      107    Customer                      No   \n",
       "\n",
       "  rental_access_method  \n",
       "0                  NaN  \n",
       "1                  NaN  \n",
       "2                  NaN  \n",
       "3                  NaN  \n",
       "4                  NaN  "
      ]
     },
     "execution_count": 5,
     "metadata": {},
     "output_type": "execute_result"
    }
   ],
   "source": [
    "#load data for different months and concatnat them into one csv file\n",
    "df = pd.concat(map(pd.read_csv, glob.glob('DataSet/*.csv')))\n",
    "df.head()"
   ]
  },
  {
   "cell_type": "code",
   "execution_count": 6,
   "metadata": {
    "slideshow": {
     "slide_type": "slide"
    }
   },
   "outputs": [
    {
     "data": {
      "text/plain": [
       "(2506983, 15)"
      ]
     },
     "execution_count": 6,
     "metadata": {},
     "output_type": "execute_result"
    }
   ],
   "source": [
    "#dataset shape\n",
    "df.shape"
   ]
  },
  {
   "cell_type": "code",
   "execution_count": 7,
   "metadata": {
    "slideshow": {
     "slide_type": "slide"
    }
   },
   "outputs": [
    {
     "name": "stdout",
     "output_type": "stream",
     "text": [
      "<class 'pandas.core.frame.DataFrame'>\n",
      "Int64Index: 2506983 entries, 0 to 256298\n",
      "Data columns (total 15 columns):\n",
      " #   Column                   Dtype  \n",
      "---  ------                   -----  \n",
      " 0   duration_sec             int64  \n",
      " 1   start_time               object \n",
      " 2   end_time                 object \n",
      " 3   start_station_id         float64\n",
      " 4   start_station_name       object \n",
      " 5   start_station_latitude   float64\n",
      " 6   start_station_longitude  float64\n",
      " 7   end_station_id           float64\n",
      " 8   end_station_name         object \n",
      " 9   end_station_latitude     float64\n",
      " 10  end_station_longitude    float64\n",
      " 11  bike_id                  int64  \n",
      " 12  user_type                object \n",
      " 13  bike_share_for_all_trip  object \n",
      " 14  rental_access_method     object \n",
      "dtypes: float64(6), int64(2), object(7)\n",
      "memory usage: 306.0+ MB\n"
     ]
    }
   ],
   "source": [
    "#dataset info\n",
    "df.info()"
   ]
  },
  {
   "cell_type": "markdown",
   "metadata": {
    "slideshow": {
     "slide_type": "slide"
    }
   },
   "source": [
    "## Data Cleaning"
   ]
  },
  {
   "cell_type": "code",
   "execution_count": 8,
   "metadata": {
    "slideshow": {
     "slide_type": "slide"
    }
   },
   "outputs": [],
   "source": [
    "#convert time to timestamp\n",
    "df['start_time']=pd.to_datetime(df['start_time'])\n",
    "df['end_time']=pd.to_datetime(df['end_time'])"
   ]
  },
  {
   "cell_type": "code",
   "execution_count": 9,
   "metadata": {
    "slideshow": {
     "slide_type": "slide"
    }
   },
   "outputs": [
    {
     "data": {
      "text/plain": [
       "duration_sec                     0\n",
       "start_time                       0\n",
       "end_time                         0\n",
       "start_station_id             80734\n",
       "start_station_name           80133\n",
       "start_station_latitude           0\n",
       "start_station_longitude          0\n",
       "end_station_id               82902\n",
       "end_station_name             82350\n",
       "end_station_latitude             0\n",
       "end_station_longitude            0\n",
       "bike_id                          0\n",
       "user_type                        0\n",
       "bike_share_for_all_trip     243259\n",
       "rental_access_method       2386145\n",
       "dtype: int64"
      ]
     },
     "execution_count": 9,
     "metadata": {},
     "output_type": "execute_result"
    }
   ],
   "source": [
    "#check null values\n",
    "df.isnull().sum()"
   ]
  },
  {
   "cell_type": "markdown",
   "metadata": {
    "slideshow": {
     "slide_type": "notes"
    }
   },
   "source": [
    "#### My analysis will focuse on trip duration and it's time such as months and days, so i will drop the rest of columns"
   ]
  },
  {
   "cell_type": "code",
   "execution_count": 10,
   "metadata": {
    "slideshow": {
     "slide_type": "slide"
    }
   },
   "outputs": [
    {
     "data": {
      "text/html": [
       "<div>\n",
       "<style scoped>\n",
       "    .dataframe tbody tr th:only-of-type {\n",
       "        vertical-align: middle;\n",
       "    }\n",
       "\n",
       "    .dataframe tbody tr th {\n",
       "        vertical-align: top;\n",
       "    }\n",
       "\n",
       "    .dataframe thead th {\n",
       "        text-align: right;\n",
       "    }\n",
       "</style>\n",
       "<table border=\"1\" class=\"dataframe\">\n",
       "  <thead>\n",
       "    <tr style=\"text-align: right;\">\n",
       "      <th></th>\n",
       "      <th>duration_sec</th>\n",
       "      <th>start_time</th>\n",
       "      <th>end_time</th>\n",
       "      <th>bike_id</th>\n",
       "      <th>user_type</th>\n",
       "    </tr>\n",
       "  </thead>\n",
       "  <tbody>\n",
       "    <tr>\n",
       "      <th>0</th>\n",
       "      <td>707</td>\n",
       "      <td>2019-11-30 23:54:47.297</td>\n",
       "      <td>2019-12-01 00:06:34.378</td>\n",
       "      <td>12077</td>\n",
       "      <td>Customer</td>\n",
       "    </tr>\n",
       "    <tr>\n",
       "      <th>1</th>\n",
       "      <td>2649</td>\n",
       "      <td>2019-11-30 23:18:36.289</td>\n",
       "      <td>2019-12-01 00:02:45.579</td>\n",
       "      <td>10322</td>\n",
       "      <td>Subscriber</td>\n",
       "    </tr>\n",
       "    <tr>\n",
       "      <th>2</th>\n",
       "      <td>1711</td>\n",
       "      <td>2019-11-30 23:33:02.261</td>\n",
       "      <td>2019-12-01 00:01:34.217</td>\n",
       "      <td>476</td>\n",
       "      <td>Subscriber</td>\n",
       "    </tr>\n",
       "    <tr>\n",
       "      <th>3</th>\n",
       "      <td>931</td>\n",
       "      <td>2019-11-30 23:45:20.272</td>\n",
       "      <td>2019-12-01 00:00:51.956</td>\n",
       "      <td>12370</td>\n",
       "      <td>Subscriber</td>\n",
       "    </tr>\n",
       "    <tr>\n",
       "      <th>4</th>\n",
       "      <td>1449</td>\n",
       "      <td>2019-11-30 23:29:56.671</td>\n",
       "      <td>2019-11-30 23:54:05.862</td>\n",
       "      <td>107</td>\n",
       "      <td>Customer</td>\n",
       "    </tr>\n",
       "  </tbody>\n",
       "</table>\n",
       "</div>"
      ],
      "text/plain": [
       "   duration_sec              start_time                end_time  bike_id  \\\n",
       "0           707 2019-11-30 23:54:47.297 2019-12-01 00:06:34.378    12077   \n",
       "1          2649 2019-11-30 23:18:36.289 2019-12-01 00:02:45.579    10322   \n",
       "2          1711 2019-11-30 23:33:02.261 2019-12-01 00:01:34.217      476   \n",
       "3           931 2019-11-30 23:45:20.272 2019-12-01 00:00:51.956    12370   \n",
       "4          1449 2019-11-30 23:29:56.671 2019-11-30 23:54:05.862      107   \n",
       "\n",
       "    user_type  \n",
       "0    Customer  \n",
       "1  Subscriber  \n",
       "2  Subscriber  \n",
       "3  Subscriber  \n",
       "4    Customer  "
      ]
     },
     "execution_count": 10,
     "metadata": {},
     "output_type": "execute_result"
    }
   ],
   "source": [
    "#drop null columns with the columns which i will not use it in analysis\n",
    "df.drop(['start_station_id','end_station_id','start_station_name','end_station_name','start_station_latitude','start_station_longitude', 'end_station_latitude', 'end_station_longitude','bike_share_for_all_trip','rental_access_method'], axis=1, inplace=True)\n",
    "df.head()"
   ]
  },
  {
   "cell_type": "code",
   "execution_count": 11,
   "metadata": {
    "slideshow": {
     "slide_type": "slide"
    }
   },
   "outputs": [],
   "source": [
    "#extract days,months,time from time and convert it to it's actually value for future analysis\n",
    "df['month'] = pd.DatetimeIndex(df['start_time']).month\n",
    "df['day'] = pd.DatetimeIndex(df['start_time']).dayofweek\n",
    "df['hour'] = df['start_time'].dt.strftime('%H:%M')\n",
    "df['month'] = df['month'].apply(lambda x: calendar.month_abbr[x])\n",
    "df['day'] = df['day'].apply(lambda x: calendar.day_name[x])"
   ]
  },
  {
   "cell_type": "code",
   "execution_count": 14,
   "metadata": {
    "slideshow": {
     "slide_type": "slide"
    }
   },
   "outputs": [],
   "source": [
    "#convert time to mintues to be easly in analysis\n",
    "df[\"duration_min\"] = round((df.duration_sec/60), 2)"
   ]
  },
  {
   "cell_type": "code",
   "execution_count": 15,
   "metadata": {},
   "outputs": [
    {
     "data": {
      "text/html": [
       "<div>\n",
       "<style scoped>\n",
       "    .dataframe tbody tr th:only-of-type {\n",
       "        vertical-align: middle;\n",
       "    }\n",
       "\n",
       "    .dataframe tbody tr th {\n",
       "        vertical-align: top;\n",
       "    }\n",
       "\n",
       "    .dataframe thead th {\n",
       "        text-align: right;\n",
       "    }\n",
       "</style>\n",
       "<table border=\"1\" class=\"dataframe\">\n",
       "  <thead>\n",
       "    <tr style=\"text-align: right;\">\n",
       "      <th></th>\n",
       "      <th>duration_sec</th>\n",
       "      <th>start_time</th>\n",
       "      <th>end_time</th>\n",
       "      <th>bike_id</th>\n",
       "      <th>user_type</th>\n",
       "      <th>month</th>\n",
       "      <th>day</th>\n",
       "      <th>hour</th>\n",
       "      <th>duration_min</th>\n",
       "    </tr>\n",
       "  </thead>\n",
       "  <tbody>\n",
       "    <tr>\n",
       "      <th>0</th>\n",
       "      <td>707</td>\n",
       "      <td>2019-11-30 23:54:47.297</td>\n",
       "      <td>2019-12-01 00:06:34.378</td>\n",
       "      <td>12077</td>\n",
       "      <td>Customer</td>\n",
       "      <td>Nov</td>\n",
       "      <td>Saturday</td>\n",
       "      <td>23:54</td>\n",
       "      <td>11.78</td>\n",
       "    </tr>\n",
       "    <tr>\n",
       "      <th>1</th>\n",
       "      <td>2649</td>\n",
       "      <td>2019-11-30 23:18:36.289</td>\n",
       "      <td>2019-12-01 00:02:45.579</td>\n",
       "      <td>10322</td>\n",
       "      <td>Subscriber</td>\n",
       "      <td>Nov</td>\n",
       "      <td>Saturday</td>\n",
       "      <td>23:18</td>\n",
       "      <td>44.15</td>\n",
       "    </tr>\n",
       "    <tr>\n",
       "      <th>2</th>\n",
       "      <td>1711</td>\n",
       "      <td>2019-11-30 23:33:02.261</td>\n",
       "      <td>2019-12-01 00:01:34.217</td>\n",
       "      <td>476</td>\n",
       "      <td>Subscriber</td>\n",
       "      <td>Nov</td>\n",
       "      <td>Saturday</td>\n",
       "      <td>23:33</td>\n",
       "      <td>28.52</td>\n",
       "    </tr>\n",
       "    <tr>\n",
       "      <th>3</th>\n",
       "      <td>931</td>\n",
       "      <td>2019-11-30 23:45:20.272</td>\n",
       "      <td>2019-12-01 00:00:51.956</td>\n",
       "      <td>12370</td>\n",
       "      <td>Subscriber</td>\n",
       "      <td>Nov</td>\n",
       "      <td>Saturday</td>\n",
       "      <td>23:45</td>\n",
       "      <td>15.52</td>\n",
       "    </tr>\n",
       "    <tr>\n",
       "      <th>4</th>\n",
       "      <td>1449</td>\n",
       "      <td>2019-11-30 23:29:56.671</td>\n",
       "      <td>2019-11-30 23:54:05.862</td>\n",
       "      <td>107</td>\n",
       "      <td>Customer</td>\n",
       "      <td>Nov</td>\n",
       "      <td>Saturday</td>\n",
       "      <td>23:29</td>\n",
       "      <td>24.15</td>\n",
       "    </tr>\n",
       "  </tbody>\n",
       "</table>\n",
       "</div>"
      ],
      "text/plain": [
       "   duration_sec               start_time                 end_time  bike_id  \\\n",
       "0           707  2019-11-30 23:54:47.297  2019-12-01 00:06:34.378    12077   \n",
       "1          2649  2019-11-30 23:18:36.289  2019-12-01 00:02:45.579    10322   \n",
       "2          1711  2019-11-30 23:33:02.261  2019-12-01 00:01:34.217      476   \n",
       "3           931  2019-11-30 23:45:20.272  2019-12-01 00:00:51.956    12370   \n",
       "4          1449  2019-11-30 23:29:56.671  2019-11-30 23:54:05.862      107   \n",
       "\n",
       "    user_type month       day   hour  duration_min  \n",
       "0    Customer   Nov  Saturday  23:54         11.78  \n",
       "1  Subscriber   Nov  Saturday  23:18         44.15  \n",
       "2  Subscriber   Nov  Saturday  23:33         28.52  \n",
       "3  Subscriber   Nov  Saturday  23:45         15.52  \n",
       "4    Customer   Nov  Saturday  23:29         24.15  "
      ]
     },
     "execution_count": 15,
     "metadata": {},
     "output_type": "execute_result"
    }
   ],
   "source": [
    "#save updates to csv file\n",
    "df.to_csv('2019_Tripdata.csv',index=False)\n",
    "df=pd.read_csv('2019_Tripdata.csv')\n",
    "df.head()"
   ]
  },
  {
   "cell_type": "markdown",
   "metadata": {
    "slideshow": {
     "slide_type": "slide"
    }
   },
   "source": [
    "### What is the structure of your dataset?\n",
    "\n",
    "Data contains 2,506,983 bike rides in the San Francisco Bay Area (2019).The dataset contained features about: \n",
    "\n",
    "- Trip duration: trip duration in seconds, start/end date/time for the bike rides. \n",
    "\n",
    "- Stations info: start/end station, name, geolocation (latitude/longitude) \n",
    "\n",
    "- Customer info: type of member (user_type)\n",
    "\n",
    "- Bike id\n",
    "\n",
    "- Bike Share for all Trip\n",
    "\n",
    "-  Rental access method\n",
    "\n",
    "### What is/are the main feature(s) of interest in your dataset?\n",
    "\n",
    "- When are most trips taken in  month of the year?\n",
    "- How long does the average trip take?\n",
    "- Does the above depend on if a user is a subscriber or customer?\n",
    "\n",
    "\n",
    "### What features in the dataset do you think will help support your investigation into your feature(s) of interest?\n",
    "\n",
    "Trip duration, Trip time (months) and User Type (Subscriber or Customer – “Subscriber” = Member or “Customer” = Casual)"
   ]
  },
  {
   "cell_type": "markdown",
   "metadata": {
    "slideshow": {
     "slide_type": "slide"
    }
   },
   "source": [
    "## Univariate Exploration\n",
    "\n",
    "> In this section, investigate distributions of individual variables. If\n",
    "you see unusual points or outliers, take a deeper look to clean things up\n",
    "and prepare yourself to look at relationships between variables."
   ]
  },
  {
   "cell_type": "code",
   "execution_count": 32,
   "metadata": {
    "slideshow": {
     "slide_type": "subslide"
    }
   },
   "outputs": [
    {
     "data": {
      "text/plain": [
       "Text(0.5, 0, 'duration_min')"
      ]
     },
     "execution_count": 32,
     "metadata": {},
     "output_type": "execute_result"
    },
    {
     "data": {
      "image/png": "[encoded data removed]",
      "text/plain": [
       "<Figure size 432x288 with 1 Axes>"
      ]
     },
     "metadata": {
      "needs_background": "light"
     },
     "output_type": "display_data"
    }
   ],
   "source": [
    "#How long does the average trip take?\n",
    "bin_edges = np.arange(0, 36 + 3 , 3)\n",
    "plt.hist(data = df, x = 'duration_min' , bins = bin_edges)\n",
    "plt.title('Distribution of Trip Duration')\n",
    "plt.xlabel('duration_min')"
   ]
  },
  {
   "cell_type": "markdown",
   "metadata": {
    "slideshow": {
     "slide_type": "notes"
    }
   },
   "source": [
    "> It is right screwed with a long tail on the right. let try log transformation to x axis."
   ]
  },
  {
   "cell_type": "code",
   "execution_count": 34,
   "metadata": {
    "slideshow": {
     "slide_type": "slide"
    }
   },
   "outputs": [
    {
     "data": {
      "image/png": "[encoded data removed]",
      "text/plain": [
       "<Figure size 432x288 with 1 Axes>"
      ]
     },
     "metadata": {
      "needs_background": "light"
     },
     "output_type": "display_data"
    }
   ],
   "source": [
    "#try log \n",
    "ticks =  [ 1 , 3, 10, 30, 100, 300, 500]\n",
    "labels = ['{}'.format(v) for v in ticks]\n",
    "bins = 10**np.arange(0 , 3 + 0.1 , 0.1)\n",
    "plt.hist(data = df, x = 'duration_min' , bins = bins);\n",
    "plt.xscale('log');\n",
    "plt.xticks(ticks,labels);\n",
    "plt.xlabel('duration_min');\n",
    "plt.title('Distribution of Trip Duration')\n",
    "plt.ylabel('Counts');"
   ]
  },
  {
   "cell_type": "markdown",
   "metadata": {
    "slideshow": {
     "slide_type": "notes"
    }
   },
   "source": [
    "The plot show that the majority of trips takes around 10 mins"
   ]
  },
  {
   "cell_type": "code",
   "execution_count": 35,
   "metadata": {
    "slideshow": {
     "slide_type": "slide"
    }
   },
   "outputs": [
    {
     "data": {
      "image/png": "[encoded data removed]",
      "text/plain": [
       "<Figure size 432x288 with 1 Axes>"
      ]
     },
     "metadata": {
      "needs_background": "light"
     },
     "output_type": "display_data"
    }
   ],
   "source": [
    "#When are most trips taken in month of the year? let's analysis trips through the year months\n",
    "sb.countplot(data=df, x='month', color=sb.color_palette()[0]);\n",
    "plt.xlabel('Month of the trip')\n",
    "plt.title('Number of trip in diffrent months');"
   ]
  },
  {
   "cell_type": "markdown",
   "metadata": {
    "slideshow": {
     "slide_type": "notes"
    }
   },
   "source": [
    "The number of trips during winter is less and it makes sense as it's cold weather and increases during warm months."
   ]
  },
  {
   "cell_type": "code",
   "execution_count": 39,
   "metadata": {
    "slideshow": {
     "slide_type": "slide"
    }
   },
   "outputs": [
    {
     "data": {
      "image/png": "[encoded data removed]",
      "text/plain": [
       "<Figure size 432x288 with 1 Axes>"
      ]
     },
     "metadata": {
      "needs_background": "light"
     },
     "output_type": "display_data"
    }
   ],
   "source": [
    "# the count of trips against user type\n",
    "graph = sb.countplot(data = df, x = \"user_type\");\n",
    "graph.set_xlabel('User Type');\n",
    "graph.set_ylabel('count');\n",
    "plt.suptitle('Customers vs. Subscribers');"
   ]
  },
  {
   "cell_type": "code",
   "execution_count": 45,
   "metadata": {
    "slideshow": {
     "slide_type": "slide"
    }
   },
   "outputs": [
    {
     "data": {
      "text/plain": [
       "Text(0.5, 1.05, 'Type of users')"
      ]
     },
     "execution_count": 45,
     "metadata": {},
     "output_type": "execute_result"
    },
    {
     "data": {
      "image/png": "[encoded data removed]",
      "text/plain": [
       "<Figure size 432x288 with 1 Axes>"
      ]
     },
     "metadata": {},
     "output_type": "display_data"
    }
   ],
   "source": [
    "df.user_type.value_counts().plot(kind='pie',autopct = '%1.1f%%',startangle = 90,\n",
    "        counterclock = False,);\n",
    "plt.title(\"Type of users\", y=1.05, fontsize=14, fontweight='semibold')"
   ]
  },
  {
   "cell_type": "markdown",
   "metadata": {
    "slideshow": {
     "slide_type": "notes"
    }
   },
   "source": [
    "The majority of users are subscribers and it's make sense as they are using the service frequently. "
   ]
  },
  {
   "cell_type": "markdown",
   "metadata": {
    "slideshow": {
     "slide_type": "slide"
    }
   },
   "source": [
    "### Discuss the distribution(s) of your variable(s) of interest. Were there any unusual points? Did you need to perform any transformations?\n",
    "\n",
    ">  Most of the trips take around 10 mins and months with frequent rides are warm months such as July. Subscribers of the service seem to use the service of bike rides more than the Customers.\n",
    "\n",
    "### Of the features you investigated, were there any unusual distributions? Did you perform any operations on the data to tidy, adjust, or change the form of the data? If so, why did you do this?\n",
    "\n",
    "> I converted the start and end time for DateTime to be able to extract months from it and also converted the duration from seconds to minutes to be easly understood."
   ]
  },
  {
   "cell_type": "markdown",
   "metadata": {
    "slideshow": {
     "slide_type": "slide"
    }
   },
   "source": [
    "## Bivariate Exploration"
   ]
  },
  {
   "cell_type": "code",
   "execution_count": 40,
   "metadata": {
    "slideshow": {
     "slide_type": "slide"
    }
   },
   "outputs": [
    {
     "data": {
      "text/plain": [
       "Text(0.5, 1.05, 'total user counts as per user type and month')"
      ]
     },
     "execution_count": 40,
     "metadata": {},
     "output_type": "execute_result"
    },
    {
     "data": {
      "image/png": "[encoded data removed]",
      "text/plain": [
       "<Figure size 432x288 with 1 Axes>"
      ]
     },
     "metadata": {
      "needs_background": "light"
     },
     "output_type": "display_data"
    }
   ],
   "source": [
    "#Lets check types of users according to months\n",
    "#It can be seen that the number of customers are high during dec, sept and oct, while subscribers is high during mar, apr and july.\n",
    "sb.countplot(data = df, x = 'month', hue = 'user_type')\n",
    "plt.title(\"total user counts as per user type and month\", y=1.05, fontsize=14, fontweight='semibold')"
   ]
  },
  {
   "cell_type": "markdown",
   "metadata": {
    "slideshow": {
     "slide_type": "slide"
    }
   },
   "source": [
    "### Talk about some of the relationships you observed in this part of the investigation. How did the feature(s) of interest vary with other features in the dataset?\n",
    "\n",
    "> As can be seen cyclist who are subscribed user have higher number of trips than the customers specially during warm time. The highest peack in March and july for subscribe while surprisingly the highest peak for customer in Dec ( almost equal subscriber).\n",
    "\n",
    "### Did you observe any interesting relationships between the other features (not the main feature(s) of interest)?\n",
    "\n",
    "> Customer user in Dec higher than subscriber."
   ]
  },
  {
   "cell_type": "markdown",
   "metadata": {
    "slideshow": {
     "slide_type": "slide"
    }
   },
   "source": [
    "## Multivariate Exploration"
   ]
  },
  {
   "cell_type": "code",
   "execution_count": 48,
   "metadata": {
    "slideshow": {
     "slide_type": "slide"
    }
   },
   "outputs": [
    {
     "data": {
      "image/png": "[encoded data removed]",
      "text/plain": [
       "<Figure size 1080x360 with 1 Axes>"
      ]
     },
     "metadata": {
      "needs_background": "light"
     },
     "output_type": "display_data"
    }
   ],
   "source": [
    "plt.figure(figsize = [15, 5])\n",
    "ax = sb.barplot(data = df, x = 'month', y = 'duration_min', hue = 'user_type')\n",
    "ax.legend(loc = 8, ncol = 3, framealpha = 1, title = 'User Type');\n",
    "plt.title('User type duration along the months');"
   ]
  },
  {
   "cell_type": "markdown",
   "metadata": {
    "slideshow": {
     "slide_type": "slide"
    }
   },
   "source": [
    "### Talk about some of the relationships you observed in this part of the investigation. Were there features that strengthened each other in terms of looking at your feature(s) of interest?\n",
    "\n",
    "> I tried to invistiagte the relation between the duration against month and user type through the year. customer users are using the bikes for longer period of time. However,the subscribed customers trips are shorter and consistant.\n",
    "\n",
    "### Were there any interesting or surprising interactions between features?\n",
    "\n",
    "> How customer spend more time than the subscribers."
   ]
  },
  {
   "cell_type": "markdown",
   "metadata": {
    "slideshow": {
     "slide_type": "skip"
    }
   },
   "source": [
    "> At the end of your report, make sure that you export the notebook as an\n",
    "html file from the `File > Download as... > HTML` menu. Make sure you keep\n",
    "track of where the exported file goes, so you can put it in the same folder\n",
    "as this notebook for project submission. Also, make sure you remove all of\n",
    "the quote-formatted guide notes like this one before you finish your report!"
   ]
  }
 ],
 "metadata": {
  "kernelspec": {
   "display_name": "Python 3",
   "language": "python",
   "name": "python3"
  },
  "language_info": {
   "codemirror_mode": {
    "name": "ipython",
    "version": 3
   },
   "file_extension": ".py",
   "mimetype": "text/x-python",
   "name": "python",
   "nbconvert_exporter": "python",
   "pygments_lexer": "ipython3",
   "version": "3.6.9"
  }
 },
 "nbformat": 4,
 "nbformat_minor": 2
}
